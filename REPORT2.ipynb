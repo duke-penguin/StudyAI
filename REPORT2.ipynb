{
 "cells": [
  {
   "cell_type": "markdown",
   "metadata": {},
   "source": [
    "# ラビットチャレンジ　機械学習\n"
   ]
  },
  {
   "cell_type": "markdown",
   "metadata": {},
   "source": [
    "## 1. 線形回帰モデル\n",
    "最小二乗法で用いられる方法で、計測等で得られた入力値から出力値を予測する。\n",
    "\n",
    "m 回の計測を行い、\n",
    "$$\n",
    "Y = \\left(\n",
    "  \\begin{array}{c} y_1 \\\\ y_2 \\\\ \\vdots \\\\ y_m \\end{array}\n",
    "\\right)\n",
    "$$\n",
    "および、\n",
    "$$\n",
    "X = ((x_{11}, x_{21}, \\dots, x_{n1}), (x_{12}, x_{22}, \\dots, x_{n2}), \\dots, (x_{m1}, x_{m2}, \\dots, x_{nm}))\n",
    "$$\n",
    "が得られたとする。\n",
    "\n",
    "y と $x_1, x_2 \\dots x_n$との間に\n",
    "\n",
    "$$\n",
    "y= \\beta_0 + \\beta_1 x_1 + \\beta_2 x_2 \\dots \\beta_n + \\epsilon\n",
    "$$\n",
    "\n",
    "なる関係を仮定すると、（$ \\epsilon $ は誤差)\n",
    "\n",
    "$$\n",
    "\\left[\n",
    "  \\begin{array}{c} y_1 \\\\ y_2 \\\\ \\vdots \\\\ y_m \\end{array}\n",
    "\\right] =\n",
    "\\begin{bmatrix}\n",
    "  \\ 1 &         x_{11} &  \\dots &     x_{n1} \\\\\n",
    "          1 & x_{12} &  \\dots &         x_{n2} \\\\\n",
    "     \\vdots &    \\vdots & \\ddots &    \\vdots \\\\\n",
    "          1 &         x_{1n} &  \\dots & x_{nm}\n",
    "\\end{bmatrix}\n",
    "\\left[\n",
    "  \\begin{array}{c} \\beta_0 \\\\ \\beta_1 \\\\ \\vdots \\\\ \\beta_m \\end{array}\n",
    "\\right] + \n",
    "\\left[\n",
    "  \\begin{array}{c} \\epsilon_1 \\\\ \\epsilon_2 \\\\ \\vdots \\\\ \\epsilon_m \\end{array}\n",
    "\\right]\n",
    "$$\n",
    "\n",
    "$$\n",
    "Y = X \\vec{\\beta} + \\vec{\\epsilon}\n",
    "$$\n",
    "であるので、$ \\epsilon $ の二乗誤差(SSE)は\n",
    "\n",
    "$$\n",
    "SSE = \\epsilon^T \\epsilon = (Y - X \\beta)^T (Y-X\\beta) = Y^TY- 2 \\beta^T X^T Y + \\beta^T X^T X^T \\beta\n",
    "$$\n",
    "となる。$ \\beta $を変化させたときのSSE の最小値は\n",
    "\n",
    "$$\n",
    "{\\partial (SSE) \\over {\\partial \\beta^T}} = -2 X^T Y + 2 X^T X \\beta = 0\n",
    "$$\n",
    "$ \\beta $ について解くと、\n",
    "$$\n",
    "\\beta = (X^T X)^{-1} X^T Y\n",
    "$$\n",
    "となり、解析的に解くことができる。\n"
   ]
  },
  {
   "cell_type": "markdown",
   "metadata": {},
   "source": [
    "### ハンズオン"
   ]
  },
  {
   "cell_type": "code",
   "execution_count": 15,
   "metadata": {},
   "outputs": [],
   "source": [
    "%matplotlib inline\n",
    "import matplotlib.pyplot as plt\n",
    "import numpy as np"
   ]
  },
  {
   "cell_type": "code",
   "execution_count": 16,
   "metadata": {},
   "outputs": [],
   "source": [
    "# 乱数で x, y を生成\n",
    "from sklearn import datasets\n",
    "x, y = datasets.make_regression(n_samples=100, \n",
    "                       n_features=1,\n",
    "                       n_informative=1,\n",
    "                       noise=2.0)"
   ]
  },
  {
   "cell_type": "code",
   "execution_count": 17,
   "metadata": {},
   "outputs": [
    {
     "data": {
      "text/plain": [
       "(array([[-2.06330356e-02],\n",
       "        [ 1.61124545e+00],\n",
       "        [ 1.40537117e+00],\n",
       "        [ 1.02675994e+00],\n",
       "        [-1.77660137e-01],\n",
       "        [ 1.48017548e-01],\n",
       "        [ 4.72987392e-01],\n",
       "        [-3.12243632e-01],\n",
       "        [-4.95580033e-01],\n",
       "        [ 8.95920631e-01],\n",
       "        [-3.27701653e-01],\n",
       "        [-5.77674665e-01],\n",
       "        [ 6.66911292e-02],\n",
       "        [ 1.15025984e+00],\n",
       "        [-1.35701966e+00],\n",
       "        [ 1.25556837e+00],\n",
       "        [-1.20484330e-01],\n",
       "        [ 4.40840244e-01],\n",
       "        [ 7.16643768e-01],\n",
       "        [ 1.43446138e-03],\n",
       "        [-1.14863302e-02],\n",
       "        [ 2.84300789e-01],\n",
       "        [-1.01660024e-01],\n",
       "        [ 5.39439693e-01],\n",
       "        [ 2.40818287e-01],\n",
       "        [ 4.07460231e-01],\n",
       "        [-7.81305186e-01],\n",
       "        [ 2.16743237e-01],\n",
       "        [-1.04704777e-01],\n",
       "        [ 1.28082446e+00],\n",
       "        [-1.03852595e+00],\n",
       "        [ 2.01863146e+00],\n",
       "        [-6.34046808e-01],\n",
       "        [-3.12438493e-01],\n",
       "        [ 1.26045434e+00],\n",
       "        [ 1.18158586e+00],\n",
       "        [ 2.81546905e+00],\n",
       "        [ 9.85172186e-01],\n",
       "        [-1.25219642e+00],\n",
       "        [ 1.01244918e+00],\n",
       "        [-4.64669477e-01],\n",
       "        [-1.72107905e+00],\n",
       "        [ 1.04225073e+00],\n",
       "        [ 5.66561116e-01],\n",
       "        [ 1.03185317e+00],\n",
       "        [-3.58532603e-01],\n",
       "        [-9.67408594e-01],\n",
       "        [-2.68610810e-01],\n",
       "        [-4.77742783e-01],\n",
       "        [-1.19186761e+00],\n",
       "        [-7.87839731e-01],\n",
       "        [ 1.34457906e+00],\n",
       "        [-1.18887177e+00],\n",
       "        [ 5.84515386e-01],\n",
       "        [ 7.82873467e-02],\n",
       "        [-4.73826604e-01],\n",
       "        [-9.36037630e-02],\n",
       "        [ 9.91807344e-01],\n",
       "        [ 1.54593038e-01],\n",
       "        [ 3.61655808e-01],\n",
       "        [-1.68405654e+00],\n",
       "        [-6.49018737e-01],\n",
       "        [ 1.39280914e+00],\n",
       "        [-1.94819590e+00],\n",
       "        [ 2.93641722e-01],\n",
       "        [-9.33167160e-01],\n",
       "        [-4.79568478e-01],\n",
       "        [-8.72980142e-01],\n",
       "        [-5.79015782e-01],\n",
       "        [ 5.36194995e-01],\n",
       "        [ 8.36683528e-01],\n",
       "        [ 1.60737781e+00],\n",
       "        [-1.05730562e+00],\n",
       "        [ 5.09282364e-02],\n",
       "        [ 2.04471662e-01],\n",
       "        [ 1.31465594e-02],\n",
       "        [ 7.50204855e-01],\n",
       "        [ 1.12531611e+00],\n",
       "        [-9.35399102e-01],\n",
       "        [ 7.08274300e-01],\n",
       "        [-5.04155424e-01],\n",
       "        [ 4.53038382e-01],\n",
       "        [-7.62634880e-01],\n",
       "        [-1.61583441e+00],\n",
       "        [ 3.11236985e-01],\n",
       "        [ 6.55781924e-01],\n",
       "        [-1.16696997e+00],\n",
       "        [-9.84800113e-01],\n",
       "        [-1.38476844e+00],\n",
       "        [ 1.20789883e+00],\n",
       "        [ 1.69148675e+00],\n",
       "        [ 6.21086720e-01],\n",
       "        [ 2.14776831e+00],\n",
       "        [-6.41936526e-01],\n",
       "        [ 1.13544857e+00],\n",
       "        [ 3.86977769e-01],\n",
       "        [-7.94254165e-03],\n",
       "        [-1.95150601e-01],\n",
       "        [-7.13998394e-01],\n",
       "        [-1.00466063e+00]]),\n",
       " array([-1.66233170e+00,  3.98028350e+01,  3.20165078e+01,  2.29242423e+01,\n",
       "        -4.18147467e+00,  5.11063459e+00,  1.45033774e+01, -6.18341743e+00,\n",
       "        -1.21905076e+01,  2.58242938e+01, -6.47674706e+00, -1.34833359e+01,\n",
       "         2.78962622e-01,  3.15439676e+01, -3.54054761e+01,  3.18823934e+01,\n",
       "        -7.70861971e+00,  8.63362227e+00,  1.44938610e+01,  1.14530404e+00,\n",
       "        -3.27435392e+00,  5.13692211e+00, -4.06830456e+00,  1.46646483e+01,\n",
       "         1.08394056e+00,  1.00115442e+01, -1.89357833e+01,  8.25123440e+00,\n",
       "         6.62460539e-01,  3.25253116e+01, -2.57086533e+01,  4.88966819e+01,\n",
       "        -1.37576816e+01, -8.59169074e+00,  3.03616705e+01,  2.91249588e+01,\n",
       "         7.14308242e+01,  2.21743986e+01, -2.69109763e+01,  2.78615631e+01,\n",
       "        -9.26581464e+00, -4.22194793e+01,  2.59696738e+01,  1.35783365e+01,\n",
       "         2.61998092e+01, -7.71707239e+00, -2.37117564e+01, -5.97424210e+00,\n",
       "        -1.05557602e+01, -2.95123869e+01, -1.95170248e+01,  3.15938169e+01,\n",
       "        -3.05736362e+01,  1.71507727e+01,  3.86232632e+00, -1.02074010e+01,\n",
       "        -4.36237147e+00,  2.57270242e+01,  3.61429421e+00,  7.63245254e+00,\n",
       "        -3.99141819e+01, -1.41706296e+01,  3.23069069e+01, -5.05603921e+01,\n",
       "         4.97432568e+00, -2.29418180e+01, -1.13603848e+01, -2.30293306e+01,\n",
       "        -1.45518770e+01,  1.50792094e+01,  1.91262123e+01,  3.83759354e+01,\n",
       "        -2.61092786e+01,  8.53111660e-01,  5.42642870e+00, -6.31122183e-02,\n",
       "         1.93302925e+01,  2.50673088e+01, -2.55160847e+01,  1.60655759e+01,\n",
       "        -1.34575333e+01,  1.00625372e+01, -1.72463259e+01, -3.80672292e+01,\n",
       "         9.46126627e+00,  1.86788179e+01, -3.24832110e+01, -2.22658860e+01,\n",
       "        -3.36342774e+01,  3.14169847e+01,  4.35180033e+01,  1.33980750e+01,\n",
       "         5.34502878e+01, -1.75497799e+01,  2.74034732e+01,  9.58002255e+00,\n",
       "        -5.57912963e-01, -4.81222748e+00, -1.97294237e+01, -2.07465015e+01]))"
      ]
     },
     "execution_count": 17,
     "metadata": {},
     "output_type": "execute_result"
    }
   ],
   "source": [
    "x, y"
   ]
  },
  {
   "cell_type": "code",
   "execution_count": 18,
   "metadata": {},
   "outputs": [
    {
     "data": {
      "text/plain": [
       "<matplotlib.collections.PathCollection at 0x12dd4366898>"
      ]
     },
     "execution_count": 18,
     "metadata": {},
     "output_type": "execute_result"
    },
    {
     "data": {
      "image/png": "[encoded data removed]",
      "text/plain": [
       "<Figure size 432x288 with 1 Axes>"
      ]
     },
     "metadata": {
      "needs_background": "light"
     },
     "output_type": "display_data"
    }
   ],
   "source": [
    "plt.scatter(x,y)"
   ]
  },
  {
   "cell_type": "markdown",
   "metadata": {},
   "source": [
    "$$\n",
    "X= \n",
    "\\begin{bmatrix}\n",
    " \\ 1 &         x_{11} &  \\dots &     x_{n1} \\\\\n",
    "          1 & x_{12} &  \\dots &         x_{n2} \\\\\n",
    "     \\vdots &    \\vdots & \\ddots &    \\vdots \\\\\n",
    "          1 &         x_{1n} &  \\dots & x_{nm}\n",
    "\\end{bmatrix}\n",
    "$$\n",
    "を作成"
   ]
  },
  {
   "cell_type": "code",
   "execution_count": 19,
   "metadata": {},
   "outputs": [],
   "source": [
    "o=np.ones(x.shape)"
   ]
  },
  {
   "cell_type": "code",
   "execution_count": 20,
   "metadata": {},
   "outputs": [],
   "source": [
    "X=np.hstack((o,x))"
   ]
  },
  {
   "cell_type": "markdown",
   "metadata": {},
   "source": [
    "$$\n",
    "\\beta = (X^T X)^{-1} X^T Y\n",
    "$$\n",
    "を計算"
   ]
  },
  {
   "cell_type": "code",
   "execution_count": 21,
   "metadata": {},
   "outputs": [],
   "source": [
    "beta = np.linalg.inv(X.T.dot(X)).dot(X.T.dot(y))"
   ]
  },
  {
   "cell_type": "code",
   "execution_count": 22,
   "metadata": {},
   "outputs": [],
   "source": [
    "xx = np.linspace(np.min(x), np.max(x),100)\n",
    "yy = beta[1]*xx+beta[0]"
   ]
  },
  {
   "cell_type": "code",
   "execution_count": 23,
   "metadata": {},
   "outputs": [
    {
     "data": {
      "text/plain": [
       "[<matplotlib.lines.Line2D at 0x12dd5371b38>]"
      ]
     },
     "execution_count": 23,
     "metadata": {},
     "output_type": "execute_result"
    },
    {
     "data": {
      "image/png": "[encoded data removed]",
      "text/plain": [
       "<Figure size 432x288 with 1 Axes>"
      ]
     },
     "metadata": {
      "needs_background": "light"
     },
     "output_type": "display_data"
    }
   ],
   "source": [
    "plt.scatter(x,y)\n",
    "plt.plot(xx,yy, c='red')"
   ]
  },
  {
   "cell_type": "code",
   "execution_count": 24,
   "metadata": {},
   "outputs": [
    {
     "data": {
      "text/plain": [
       "array([-1.9481959 , -1.90007807, -1.85196024, -1.80384242, -1.75572459,\n",
       "       -1.70760676, -1.65948893, -1.61137111, -1.56325328, -1.51513545,\n",
       "       -1.46701762, -1.41889979, -1.37078197, -1.32266414, -1.27454631,\n",
       "       -1.22642848, -1.17831066, -1.13019283, -1.082075  , -1.03395717,\n",
       "       -0.98583934, -0.93772152, -0.88960369, -0.84148586, -0.79336803,\n",
       "       -0.74525021, -0.69713238, -0.64901455, -0.60089672, -0.5527789 ,\n",
       "       -0.50466107, -0.45654324, -0.40842541, -0.36030758, -0.31218976,\n",
       "       -0.26407193, -0.2159541 , -0.16783627, -0.11971845, -0.07160062,\n",
       "       -0.02348279,  0.02463504,  0.07275287,  0.12087069,  0.16898852,\n",
       "        0.21710635,  0.26522418,  0.313342  ,  0.36145983,  0.40957766,\n",
       "        0.45769549,  0.50581332,  0.55393114,  0.60204897,  0.6501668 ,\n",
       "        0.69828463,  0.74640245,  0.79452028,  0.84263811,  0.89075594,\n",
       "        0.93887377,  0.98699159,  1.03510942,  1.08322725,  1.13134508,\n",
       "        1.1794629 ,  1.22758073,  1.27569856,  1.32381639,  1.37193422,\n",
       "        1.42005204,  1.46816987,  1.5162877 ,  1.56440553,  1.61252335,\n",
       "        1.66064118,  1.70875901,  1.75687684,  1.80499466,  1.85311249,\n",
       "        1.90123032,  1.94934815,  1.99746598,  2.0455838 ,  2.09370163,\n",
       "        2.14181946,  2.18993729,  2.23805511,  2.28617294,  2.33429077,\n",
       "        2.3824086 ,  2.43052643,  2.47864425,  2.52676208,  2.57487991,\n",
       "        2.62299774,  2.67111556,  2.71923339,  2.76735122,  2.81546905])"
      ]
     },
     "execution_count": 24,
     "metadata": {},
     "output_type": "execute_result"
    }
   ],
   "source": [
    "xx"
   ]
  },
  {
   "cell_type": "markdown",
   "metadata": {},
   "source": [
    "## 2.非線形回帰"
   ]
  },
  {
   "cell_type": "markdown",
   "metadata": {},
   "source": [
    "上記では、説明変数と被説明変数の間に\n",
    "$$\n",
    "y= \\beta_0 + \\beta_1 x_1 + \\beta_2 x_2 \\dots \\beta_n + \\epsilon\n",
    "$$\n",
    "のような線形関係があるとしていたところを、任意の関数 $ \\phi(x) $を用いて\n",
    "\n",
    "$$\n",
    "y = w_0 + \\sum w_i \\phi_i(x)\n",
    "$$\n",
    "なる関係があるものとする。\n",
    "\n",
    "### 基底関数\n",
    "$ \\phi_i(x) $ は基底関数と呼ばれ、\n",
    "\n",
    "$$\n",
    "\\phi_i(x) = x^i\n",
    "$$\n",
    "とすると、n 次元多項式となる。\n",
    "\n",
    "その他よく用いられるものとしてはガウス基底がある。\n",
    "\n",
    "$$\n",
    "\\phi(x) = exp({-(x - \\mu_i)^2 \\over 2 \\sigma^2})\n",
    "$$\n",
    "\n",
    "### 過学習\n",
    "\n",
    "n を無条件に大きくすると、特定のデータ（学習データ）にはよくフィットするが、\n",
    "未学習データ（テストデータ等）では過学習が発生する。\n",
    "\n"
   ]
  },
  {
   "cell_type": "code",
   "execution_count": 25,
   "metadata": {},
   "outputs": [],
   "source": [
    "N=20\n",
    "x=np.linspace(-3,3,N)\n",
    "y=np.sin(x)+ np.random.rand(N)-0.5\n",
    "x=x.reshape(N,-1)\n",
    "y=y.reshape(N,-1)"
   ]
  },
  {
   "cell_type": "code",
   "execution_count": 26,
   "metadata": {},
   "outputs": [
    {
     "data": {
      "text/plain": [
       "<matplotlib.collections.PathCollection at 0x12dd563eac8>"
      ]
     },
     "execution_count": 26,
     "metadata": {},
     "output_type": "execute_result"
    },
    {
     "data": {
      "image/png": "[encoded data removed]",
      "text/plain": [
       "<Figure size 432x288 with 1 Axes>"
      ]
     },
     "metadata": {
      "needs_background": "light"
     },
     "output_type": "display_data"
    }
   ],
   "source": [
    "plt.scatter(x,y)"
   ]
  },
  {
   "cell_type": "markdown",
   "metadata": {},
   "source": [
    "#### 多項式カーネル(N=3)"
   ]
  },
  {
   "cell_type": "code",
   "execution_count": 27,
   "metadata": {},
   "outputs": [
    {
     "data": {
      "text/plain": [
       "[<matplotlib.lines.Line2D at 0x12dd5675320>]"
      ]
     },
     "execution_count": 27,
     "metadata": {},
     "output_type": "execute_result"
    },
    {
     "data": {
      "image/png": "[encoded data removed]",
      "text/plain": [
       "<Figure size 432x288 with 1 Axes>"
      ]
     },
     "metadata": {
      "needs_background": "light"
     },
     "output_type": "display_data"
    }
   ],
   "source": [
    "from sklearn.preprocessing import PolynomialFeatures\n",
    "from sklearn.linear_model import LinearRegression\n",
    "polynomial_features = PolynomialFeatures(degree = 3)\n",
    "x_poly = polynomial_features.fit_transform(x)\n",
    "model = LinearRegression()\n",
    "model.fit(x_poly, y)\n",
    "y_pred = model.predict(x_poly)\n",
    "plt.scatter(x,y)\n",
    "plt.plot(x,y_pred,c='r')"
   ]
  },
  {
   "cell_type": "markdown",
   "metadata": {},
   "source": [
    "#### 多項式カーネル(N=11)"
   ]
  },
  {
   "cell_type": "code",
   "execution_count": 28,
   "metadata": {},
   "outputs": [
    {
     "data": {
      "text/plain": [
       "[<matplotlib.lines.Line2D at 0x12dd59344e0>]"
      ]
     },
     "execution_count": 28,
     "metadata": {},
     "output_type": "execute_result"
    },
    {
     "data": {
      "image/png": "[encoded data removed]",
      "text/plain": [
       "<Figure size 432x288 with 1 Axes>"
      ]
     },
     "metadata": {
      "needs_background": "light"
     },
     "output_type": "display_data"
    }
   ],
   "source": [
    "polynomial_features = PolynomialFeatures(degree = 11)\n",
    "x_poly = polynomial_features.fit_transform(x)\n",
    "model = LinearRegression()\n",
    "model.fit(x_poly, y)\n",
    "y_pred = model.predict(x_poly)\n",
    "plt.scatter(x,y)\n",
    "plt.plot(x,y_pred,c='r')"
   ]
  },
  {
   "cell_type": "markdown",
   "metadata": {},
   "source": [
    "#### N=15"
   ]
  },
  {
   "cell_type": "code",
   "execution_count": 29,
   "metadata": {},
   "outputs": [
    {
     "data": {
      "text/plain": [
       "[<matplotlib.lines.Line2D at 0x12dd59947b8>]"
      ]
     },
     "execution_count": 29,
     "metadata": {},
     "output_type": "execute_result"
    },
    {
     "data": {
      "image/png": "[encoded data removed]",
      "text/plain": [
       "<Figure size 432x288 with 1 Axes>"
      ]
     },
     "metadata": {
      "needs_background": "light"
     },
     "output_type": "display_data"
    }
   ],
   "source": [
    "polynomial_features = PolynomialFeatures(degree = 15)\n",
    "x_poly = polynomial_features.fit_transform(x)\n",
    "model = LinearRegression()\n",
    "model.fit(x_poly, y)\n",
    "y_pred = model.predict(x_poly)\n",
    "plt.scatter(x,y)\n",
    "plt.plot(x,y_pred,c='r')"
   ]
  },
  {
   "cell_type": "markdown",
   "metadata": {},
   "source": [
    "#### ガウシアンカーネル"
   ]
  },
  {
   "cell_type": "code",
   "execution_count": 30,
   "metadata": {},
   "outputs": [
    {
     "data": {
      "text/plain": [
       "[<matplotlib.lines.Line2D at 0x12dd59f4080>]"
      ]
     },
     "execution_count": 30,
     "metadata": {},
     "output_type": "execute_result"
    },
    {
     "data": {
      "image/png": "[encoded data removed]",
      "text/plain": [
       "<Figure size 432x288 with 1 Axes>"
      ]
     },
     "metadata": {
      "needs_background": "light"
     },
     "output_type": "display_data"
    }
   ],
   "source": [
    "from sklearn.kernel_ridge import KernelRidge\n",
    "\n",
    "clf = KernelRidge(alpha=1.0, kernel='rbf')\n",
    "clf.fit(x, y)\n",
    "\n",
    "p = clf.predict(x)\n",
    "plt.scatter(x, y)\n",
    "plt.plot(x, p)\n"
   ]
  },
  {
   "cell_type": "markdown",
   "metadata": {},
   "source": [
    "### 正則化\n",
    "\n",
    "回帰は真値と予測値の誤差\n",
    "\n",
    "$$\n",
    "L = |y - X w|^2\n",
    "$$\n",
    "を最小化する問題であるが、学習データに過度に一致させようとすると、\n",
    "上記のような過学習が起こる。これを防ぐため、誤差を最小化する代わりに、\n",
    "\n",
    "$$\n",
    "L = |y - X w |^2 + \\lambda |w|_n\n",
    "$$\n",
    "\n",
    "を最小化する問題に置き換える。\n",
    "この時n = 1 の場合を L1正則化(ラッソ回帰)、n=2の場合を L2正則化(リッジ回帰)と呼ぶ。\n"
   ]
  },
  {
   "cell_type": "markdown",
   "metadata": {},
   "source": [
    "## 3.ロジスティック回帰\n",
    "\n",
    "説明変数に対する出力が値ではなく、～である確率であるもの。\n",
    "例えば、\n",
    "\n",
    "* 患者が罹患している確率（2値分類）\n",
    "* 入力された画像がどの動物である可能性が高いか（多値分類）\n",
    "\n",
    "に対して、回帰を行う。\n",
    "結果は、被説明変数が、真か偽か（2値）、あるクラスに属する確率は各々幾らか（多値）という形で出力される。\n",
    "\n"
   ]
  },
  {
   "cell_type": "markdown",
   "metadata": {},
   "source": [
    "### 2値のテスト"
   ]
  },
  {
   "cell_type": "markdown",
   "metadata": {},
   "source": [
    "体温に対して、風邪か(1)、そうでないか(0)を下記のようにあらわした場合、単純にフィッティングを行っても意味をなさない。\n"
   ]
  },
  {
   "cell_type": "code",
   "execution_count": 31,
   "metadata": {},
   "outputs": [
    {
     "data": {
      "text/plain": [
       "[<matplotlib.lines.Line2D at 0x12dd59f4b70>]"
      ]
     },
     "execution_count": 31,
     "metadata": {},
     "output_type": "execute_result"
    },
    {
     "data": {
      "image/png": "[encoded data removed]",
      "text/plain": [
       "<Figure size 432x288 with 1 Axes>"
      ]
     },
     "metadata": {
      "needs_background": "light"
     },
     "output_type": "display_data"
    }
   ],
   "source": [
    "import pandas as pd\n",
    "from sklearn.linear_model import LinearRegression\n",
    "\n",
    "df=pd.DataFrame([\n",
    "    [35.5, 0],\n",
    "    [35.7, 0],\n",
    "    [36.2, 0],\n",
    "    [36.5, 0],\n",
    "    [36.5, 1],\n",
    "    [36.8, 1],\n",
    "    [36.0, 0],\n",
    "    [37.0, 1],\n",
    "    [37.0, 0],\n",
    "    [37.1, 1],\n",
    "    [38.0, 1],\n",
    "    [39.0, 1]],\n",
    "    columns = ['temperature','fever'])\n",
    "x=df['temperature'].values\n",
    "y=df['fever'].values\n",
    "plt.xlabel('Temperature')\n",
    "plt.ylabel('Fever')\n",
    "plt.scatter(x,y)\n",
    "\n",
    "clf = LinearRegression()\n",
    "x=x.reshape(-1,1)\n",
    "clf.fit(x,y)\n",
    "y_=clf.predict(x)\n",
    "plt.plot(x,y_,c='r')"
   ]
  },
  {
   "cell_type": "markdown",
   "metadata": {},
   "source": [
    "このデータに対し、直接線形回帰を行っても、妥当なフィッティングは得れれない。\n",
    "そこで、熱である確率を p とし\n",
    "$$ \n",
    "p = {1 \\over 1 + exp(-z)} \n",
    "$$\n",
    "とおき、熱かそうでないかを確率で表現する。\n",
    "この時の\n",
    "$$\n",
    "z = \\log ({p \\over {1-p}})\n",
    "$$\n",
    "を対数オッズ(ロジット）と呼ぶ\n",
    "ここで、\n",
    "$$\n",
    "z=\\beta_0 + \\beta_1 t\n",
    "$$\n",
    "とおくと、線形回帰が使える。\n",
    "$ p \\rightarrow 0 $ の時、$ z \\rightarrow - \\infty $ <br />\n",
    "$ p  \\rightarrow 1 $  の時、$ z \\rightarrow \\infty $ <br />\n",
    "であるが、ここでは、p=0の時 z=-10, p=1の時 z=10と置く。\n",
    "\n"
   ]
  },
  {
   "cell_type": "code",
   "execution_count": 32,
   "metadata": {},
   "outputs": [
    {
     "data": {
      "text/plain": [
       "[<matplotlib.lines.Line2D at 0x12dd65efe10>]"
      ]
     },
     "execution_count": 32,
     "metadata": {},
     "output_type": "execute_result"
    },
    {
     "data": {
      "image/png": "[encoded data removed]",
      "text/plain": [
       "<Figure size 432x288 with 1 Axes>"
      ]
     },
     "metadata": {
      "needs_background": "light"
     },
     "output_type": "display_data"
    }
   ],
   "source": [
    "z=y*20-10.0\n",
    "clf.fit(x,z)\n",
    "x_=np.arange(35.5, 39.0, 0.02).reshape(-1,1)\n",
    "z_=clf.predict(x_)\n",
    "plt.scatter(x,y)\n",
    "plt.plot(x_,1/(1+np.exp(-z_)))"
   ]
  },
  {
   "cell_type": "markdown",
   "metadata": {},
   "source": [
    "このように体温に応じて風邪である確率分布が得られた。"
   ]
  },
  {
   "cell_type": "markdown",
   "metadata": {},
   "source": [
    "多値分類の場合は、クラスkに属する確率を\n",
    "$$\n",
    "p_k = {exp(\\beta_0^{(k)} + x \\beta^{(k))} \\over \\sum_j exp(\\beta_0^{(j)} + x \\beta^{(j)})}\n",
    "$$\n",
    "とソフトマトリックス関数を導入することで、回帰を行うことができる。"
   ]
  },
  {
   "cell_type": "markdown",
   "metadata": {},
   "source": [
    "## 4.主成分分析\n",
    "\n",
    "主成分分析は多くの説明変数をより少ない指標や合成変数であらわす方法。\n",
    "これにより多くの次元データを、2次元や3次元といった低次元であらわすことが\n",
    "可能となり、視覚的に理解しやすくなる。\n",
    "\n",
    "例えば、下記のように2次元に分布した分布を、\n",
    "分散の大きな方法に座標回転を行うことより、1つの次元だけで分布の分散をよく表すことができる。\n",
    "<img src=\"PCA_1.jpg\">"
   ]
  },
  {
   "cell_type": "markdown",
   "metadata": {},
   "source": [
    "具体的には、\n",
    "$$\n",
    "\\vec{X} = \\begin{bmatrix}X_1 \\\\ X_2 \\\\ \\vdots \\\\ X_n \\end{bmatrix}\n",
    "$$\n",
    "に対して、共分散行列と呼ばれる以下の行列\n",
    "$$\n",
    "\\Sigma\n",
    "= \\begin{bmatrix}\n",
    " \\mathrm{E}[(X_1 - \\mu_1)(X_1 - \\mu_1)] & \\mathrm{E}[(X_1 - \\mu_1)(X_2 - \\mu_2)] & \\cdots & \\mathrm{E}[(X_1 - \\mu_1)(X_n - \\mu_n)] \\\\ \\\\\n",
    " \\mathrm{E}[(X_2 - \\mu_2)(X_1 - \\mu_1)] & \\mathrm{E}[(X_2 - \\mu_2)(X_2 - \\mu_2)] & \\cdots & \\mathrm{E}[(X_2 - \\mu_2)(X_n - \\mu_n)] \\\\ \\\\\n",
    " \\vdots & \\vdots & \\ddots & \\vdots \\\\ \\\\\n",
    " \\mathrm{E}[(X_n - \\mu_n)(X_1 - \\mu_1)] & \\mathrm{E}[(X_n - \\mu_n)(X_2 - \\mu_2)] & \\cdots & \\mathrm{E}[(X_n - \\mu_n)(X_n - \\mu_n)]\n",
    "\\end{bmatrix}\n",
    "$$\n",
    "を対角化し、大きな固有値に対応する、少数の固有ベクトル空間\n",
    "にマッピングを行うことで、次元の縮約が行える。\n",
    "\n",
    "\n",
    "#### その他\n",
    "特異値分解とよく似ている\n",
    "\n",
    "#### ハンズオン\n"
   ]
  },
  {
   "cell_type": "code",
   "execution_count": 33,
   "metadata": {},
   "outputs": [],
   "source": [
    "n_sample = 100\n",
    "\n",
    "def gen_data(n_sample):\n",
    "    mean = [0, 0]\n",
    "    cov = [[2, 0.7], [0.7, 1]]\n",
    "    return np.random.multivariate_normal(mean, cov, n_sample)\n",
    "\n",
    "def plt_data(X):\n",
    "    plt.scatter(X[:, 0], X[:, 1])\n",
    "    plt.xlim(-5, 5)\n",
    "    plt.ylim(-5, 5)"
   ]
  },
  {
   "cell_type": "code",
   "execution_count": 34,
   "metadata": {},
   "outputs": [
    {
     "data": {
      "image/png": "[encoded data removed]",
      "text/plain": [
       "<Figure size 432x288 with 1 Axes>"
      ]
     },
     "metadata": {
      "needs_background": "light"
     },
     "output_type": "display_data"
    }
   ],
   "source": [
    "X = gen_data(n_sample)\n",
    "plt_data(X)"
   ]
  },
  {
   "cell_type": "code",
   "execution_count": 35,
   "metadata": {},
   "outputs": [],
   "source": [
    "n_components=2\n",
    "\n",
    "def get_moments(X):\n",
    "    mean = X.mean(axis=0)\n",
    "    stan_cov = np.dot((X - mean).T, X - mean) / (len(X) - 1)\n",
    "    return mean, stan_cov\n",
    "    \n",
    "def get_components(eigenvectors, n_components):\n",
    "#     W = eigenvectors[:, -n_components:]\n",
    "#     return W.T[::-1]\n",
    "    W = eigenvectors[:, ::-1][:, :n_components]\n",
    "    return W.T\n",
    "\n",
    "def plt_result(X, first, second):\n",
    "    plt.scatter(X[:, 0], X[:, 1])\n",
    "    plt.xlim(-5, 5)\n",
    "    plt.ylim(-5, 5)\n",
    "    # 第１主成分\n",
    "    plt.quiver(0, 0, first[0], first[1], width=0.01, scale=6, color='red')\n",
    "    # 第２主成分\n",
    "    plt.quiver(0, 0, second[0], second[1], width=0.01, scale=6, color='green')"
   ]
  },
  {
   "cell_type": "code",
   "execution_count": 36,
   "metadata": {},
   "outputs": [
    {
     "data": {
      "image/png": "[encoded data removed]",
      "text/plain": [
       "<Figure size 432x288 with 1 Axes>"
      ]
     },
     "metadata": {
      "needs_background": "light"
     },
     "output_type": "display_data"
    }
   ],
   "source": [
    "#分散共分散行列を標準化\n",
    "meean, stan_cov = get_moments(X)\n",
    "#固有値と固有ベクトルを計算\n",
    "eigenvalues, eigenvectors = np.linalg.eigh(stan_cov)\n",
    "components = get_components(eigenvectors, n_components)\n",
    "\n",
    "plt_result(X, eigenvectors[0, :], eigenvectors[1, :])"
   ]
  },
  {
   "cell_type": "markdown",
   "metadata": {},
   "source": [
    "## 5.アルゴリズム\n",
    "\n",
    "### k-means\n",
    "教師なしのクラスタリング問題。\n",
    "正解ラベルのないデータに対して、それぞれのデータがどのクラスにラベル化されるかを\n",
    "分ける方法。\n",
    "\n",
    "\n",
    "アルゴリズム概略\n",
    "* クラス数k はあらかじめ与えられている。\n",
    "* ランダムな位置にクラスタの重心を決める\n",
    "* 各クラスに対して、各点のデータと重心位置の距離を計算し、クラスタ重心を求める。\n",
    "* 各点を一番近いクラスタに割り当てる\n",
    "\n",
    "k-means ではランダムで重心を決めているため、初期値の取り方によっては、収束がうまく行かないことがある。\n",
    "これを改良した方法として k-means++ がある。これは、クラスの重心を下記の重み付きの確率分布を用いて、ランダムに決める。\n",
    "$$\n",
    "{D(x)^2 \\over \\sum D(x)^2}\n",
    "$$\n",
    "\n",
    "\n"
   ]
  },
  {
   "cell_type": "code",
   "execution_count": 37,
   "metadata": {},
   "outputs": [],
   "source": [
    "%matplotlib inline\n",
    "import numpy as np\n",
    "import matplotlib.pyplot as plt"
   ]
  },
  {
   "cell_type": "code",
   "execution_count": 38,
   "metadata": {},
   "outputs": [],
   "source": [
    "def gen_data():\n",
    "    x1 = np.random.normal(size=(100, 2)) + np.array([-5, -5])\n",
    "    x2 = np.random.normal(size=(100, 2)) + np.array([5, -5])\n",
    "    x3 = np.random.normal(size=(100, 2)) + np.array([0, 5])\n",
    "    return np.vstack((x1, x2, x3))"
   ]
  },
  {
   "cell_type": "code",
   "execution_count": 39,
   "metadata": {},
   "outputs": [
    {
     "data": {
      "text/plain": [
       "<matplotlib.collections.PathCollection at 0x12dd67454a8>"
      ]
     },
     "execution_count": 39,
     "metadata": {},
     "output_type": "execute_result"
    },
    {
     "data": {
      "image/png": "[encoded data removed]",
      "text/plain": [
       "<Figure size 432x288 with 1 Axes>"
      ]
     },
     "metadata": {
      "needs_background": "light"
     },
     "output_type": "display_data"
    }
   ],
   "source": [
    "#データ作成\n",
    "X_train = gen_data()\n",
    "#データ描画\n",
    "plt.scatter(X_train[:, 0], X_train[:, 1])"
   ]
  },
  {
   "cell_type": "code",
   "execution_count": 40,
   "metadata": {},
   "outputs": [],
   "source": [
    "def distance(x1, x2):\n",
    "    return np.sum((x1 - x2)**2, axis=1)\n",
    "\n",
    "n_clusters = 3\n",
    "iter_max = 100\n",
    "\n",
    "# 各クラスタ中心をランダムに初期化\n",
    "centers = X_train[np.random.choice(len(X_train), n_clusters, replace=False)]\n",
    "\n",
    "for _ in range(iter_max):\n",
    "    prev_centers = np.copy(centers)\n",
    "    D = np.zeros((len(X_train), n_clusters))\n",
    "    # 各データ点に対して、各クラスタ中心との距離を計算\n",
    "    for i, x in enumerate(X_train):\n",
    "        D[i] = distance(x, centers)\n",
    "    # 各データ点に、最も距離が近いクラスタを割り当\n",
    "    cluster_index = np.argmin(D, axis=1)\n",
    "    # 各クラスタの中心を計算\n",
    "    for k in range(n_clusters):\n",
    "        index_k = cluster_index == k\n",
    "        centers[k] = np.mean(X_train[index_k], axis=0)\n",
    "    # 収束判定\n",
    "    if np.allclose(prev_centers, centers):\n",
    "        break"
   ]
  },
  {
   "cell_type": "code",
   "execution_count": 41,
   "metadata": {},
   "outputs": [],
   "source": [
    "def plt_result(X_train, centers, xx):\n",
    "    #　データを可視化\n",
    "    plt.scatter(X_train[:, 0], X_train[:, 1], c=y_pred, cmap='spring')\n",
    "    # 中心を可視化\n",
    "    plt.scatter(centers[:, 0], centers[:, 1], s=200, marker='X', lw=2, c='black', edgecolor=\"white\")\n",
    "    # 領域の可視化\n",
    "    pred = np.empty(len(xx), dtype=int)\n",
    "    for i, x in enumerate(xx):\n",
    "        d = distance(x, centers)\n",
    "        pred[i] = np.argmin(d)"
   ]
  },
  {
   "cell_type": "code",
   "execution_count": 42,
   "metadata": {},
   "outputs": [],
   "source": [
    "y_pred = np.empty(len(X_train), dtype=int)\n",
    "for i, x in enumerate(X_train):\n",
    "    d = distance(x, centers)\n",
    "    y_pred[i] = np.argmin(d)"
   ]
  },
  {
   "cell_type": "code",
   "execution_count": 43,
   "metadata": {},
   "outputs": [
    {
     "data": {
      "image/png": "[encoded data removed]",
      "text/plain": [
       "<Figure size 432x288 with 1 Axes>"
      ]
     },
     "metadata": {
      "needs_background": "light"
     },
     "output_type": "display_data"
    }
   ],
   "source": [
    "xx0, xx1 = np.meshgrid(np.linspace(-10, 10, 100), np.linspace(-10, 10, 100))\n",
    "xx = np.array([xx0, xx1]).reshape(2, -1).T\n",
    "\n",
    "plt_result(X_train, centers, xx)"
   ]
  },
  {
   "cell_type": "markdown",
   "metadata": {},
   "source": [
    "### k近傍法\n",
    "\n",
    "教師あり学習の分類問題。\n",
    "\n",
    "特徴空間において、ある点がどこクラスに属するかという茂大を、近傍の k 個の教師データを選び、\n",
    "多数決によりその点が属するクラスを決定する方法。\n"
   ]
  },
  {
   "cell_type": "markdown",
   "metadata": {},
   "source": [
    "#### ハンズオン"
   ]
  },
  {
   "cell_type": "code",
   "execution_count": 44,
   "metadata": {},
   "outputs": [],
   "source": [
    "%matplotlib inline\n",
    "import numpy as np\n",
    "import matplotlib.pyplot as plt\n",
    "from scipy import stats"
   ]
  },
  {
   "cell_type": "code",
   "execution_count": 45,
   "metadata": {},
   "outputs": [],
   "source": [
    "def gen_data():\n",
    "    x0 = np.random.normal(size=50).reshape(-1, 2) - 1\n",
    "    x1 = np.random.normal(size=50).reshape(-1, 2) + 1.\n",
    "    x_train = np.concatenate([x0, x1])\n",
    "    y_train = np.concatenate([np.zeros(25), np.ones(25)]).astype(np.int)\n",
    "    return x_train, y_train"
   ]
  },
  {
   "cell_type": "code",
   "execution_count": 46,
   "metadata": {},
   "outputs": [
    {
     "data": {
      "text/plain": [
       "<matplotlib.collections.PathCollection at 0x12dd67ace10>"
      ]
     },
     "execution_count": 46,
     "metadata": {},
     "output_type": "execute_result"
    },
    {
     "data": {
      "image/png": "[encoded data removed]",
      "text/plain": [
       "<Figure size 432x288 with 1 Axes>"
      ]
     },
     "metadata": {
      "needs_background": "light"
     },
     "output_type": "display_data"
    }
   ],
   "source": [
    "X_train, ys_train = gen_data()\n",
    "plt.scatter(X_train[:, 0], X_train[:, 1], c=ys_train)"
   ]
  },
  {
   "cell_type": "code",
   "execution_count": 47,
   "metadata": {},
   "outputs": [],
   "source": [
    "def distance(x1, x2):\n",
    "    return np.sum((x1 - x2)**2, axis=1)\n",
    "\n",
    "def knc_predict(n_neighbors, x_train, y_train, X_test):\n",
    "    y_pred = np.empty(len(X_test), dtype=y_train.dtype)\n",
    "    for i, x in enumerate(X_test):\n",
    "        distances = distance(x, X_train)\n",
    "        nearest_index = distances.argsort()[:n_neighbors]\n",
    "        mode, _ = stats.mode(y_train[nearest_index])\n",
    "        y_pred[i] = mode\n",
    "    return y_pred\n",
    "\n",
    "def plt_resut(x_train, y_train, y_pred):\n",
    "    xx0, xx1 = np.meshgrid(np.linspace(-5, 5, 100), np.linspace(-5, 5, 100))\n",
    "    xx = np.array([xx0, xx1]).reshape(2, -1).T\n",
    "    plt.scatter(x_train[:, 0], x_train[:, 1], c=y_train)\n",
    "    plt.contourf(xx0, xx1, y_pred.reshape(100, 100).astype(dtype=np.float), alpha=0.2, levels=np.linspace(0, 1, 3))"
   ]
  },
  {
   "cell_type": "code",
   "execution_count": 48,
   "metadata": {},
   "outputs": [
    {
     "data": {
      "image/png": "[encoded data removed]",
      "text/plain": [
       "<Figure size 432x288 with 1 Axes>"
      ]
     },
     "metadata": {
      "needs_background": "light"
     },
     "output_type": "display_data"
    }
   ],
   "source": [
    "n_neighbors = 3\n",
    "\n",
    "xx0, xx1 = np.meshgrid(np.linspace(-5, 5, 100), np.linspace(-5, 5, 100))\n",
    "X_test = np.array([xx0, xx1]).reshape(2, -1).T\n",
    "\n",
    "y_pred = knc_predict(n_neighbors, X_train, ys_train, X_test)\n",
    "plt_resut(X_train, ys_train, y_pred)"
   ]
  },
  {
   "cell_type": "markdown",
   "metadata": {},
   "source": [
    "## 6.SVM"
   ]
  },
  {
   "cell_type": "markdown",
   "metadata": {},
   "source": [
    "サポートベクターマシン (SVM) とは、教師あり学習で用いられる、分類器\n",
    "特徴量空間において、ある点がどのクラスに属するかを決定する際、\n",
    "各クラスを超平面によって分類し、その点がどの超平面に囲まれた場所にあるかに\n",
    "よってクラス分類を行う。\n",
    "\n",
    "学習は、クラスを分離する超平面を、各クラスに属する点からの距離が最大に\n",
    "なるように行う。\n",
    "\n",
    "<img src=\"SVM_1.jpg\">"
   ]
  },
  {
   "cell_type": "markdown",
   "metadata": {},
   "source": [
    "学習データを\n",
    "$$\n",
    "(x_1, y_1), (x_2, y_2), \\dots (x_n, y_n)\n",
    "$$\n",
    "とすると、2つのクラスに分離する、超平面の境界は\n",
    "$$\n",
    "W^T x - b = 0\n",
    "$$\n",
    "で表される。\n",
    "平面からの距離は\n",
    "$$\n",
    "{b \\over \\|\\mathbf{w}\\|}\n",
    "$$\n",
    "である。\n",
    "\n",
    "#### ハードマージン\n",
    "学習データが線形分離可能であるとき、なるべくその距離が大きくなるように、2 つのクラスのデータを分離するような、2 つの平行な超平面を選択することができ、\n",
    "それらは、\n",
    "$$\n",
    "W^T x - b = 1\n",
    "$$\n",
    "および、\n",
    "$$\n",
    "W^T x - b = -1\n",
    "$$\n",
    "となる。このとき\n",
    "$$\n",
    "y_i(W^T x_i - b) \\ge 1\n",
    "$$\n",
    "が成立することから、2つのクラスを分離する超平面は、\n",
    "$$\n",
    "y_i(W^T x_i - b) \\ge 1\n",
    "$$\n",
    "の元で $\\|\\mathbf{w}\\|$を最小化する問題に帰する。\n",
    "\n",
    "#### ソフトマージン\n",
    "線形分離不可能な場合は、\n",
    "$$\n",
    "\\left[\\frac 1 n \\sum_{i=1}^n \\max\\left(0, 1 - y_i(\\mathbf{w}^T \\mathbf{x}_i - b)\\right) \\right] + \\lambda\\lVert \\mathbf{w} \\rVert^2\n",
    "$$\n",
    "を最小化することによって得られる。$ \\lambda $ は、x_i がどの程度、正しい方に分類されているかと、マージンの大きさのトレードオフを決定するパラメタとなる。"
   ]
  },
  {
   "cell_type": "markdown",
   "metadata": {},
   "source": [
    "### ハンズオン\n",
    "#### 線形分離可能"
   ]
  },
  {
   "cell_type": "markdown",
   "metadata": {},
   "source": [
    "データ生成"
   ]
  },
  {
   "cell_type": "code",
   "execution_count": 49,
   "metadata": {},
   "outputs": [],
   "source": [
    "def gen_data():\n",
    "    x0 = np.random.normal(size=50).reshape(-1, 2) - 2.\n",
    "    x1 = np.random.normal(size=50).reshape(-1, 2) + 2.\n",
    "    X_train = np.concatenate([x0, x1])\n",
    "    ys_train = np.concatenate([np.zeros(25), np.ones(25)]).astype(np.int)\n",
    "    return X_train, ys_train"
   ]
  },
  {
   "cell_type": "code",
   "execution_count": 50,
   "metadata": {},
   "outputs": [
    {
     "ename": "NameError",
     "evalue": "name 'Y_train' is not defined",
     "output_type": "error",
     "traceback": [
      "\u001b[1;31m---------------------------------------------------------------------------\u001b[0m",
      "\u001b[1;31mNameError\u001b[0m                                 Traceback (most recent call last)",
      "\u001b[1;32m<ipython-input-50-a6bfa77539ce>\u001b[0m in \u001b[0;36m<module>\u001b[1;34m\u001b[0m\n\u001b[1;32m----> 1\u001b[1;33m \u001b[0mt\u001b[0m \u001b[1;33m=\u001b[0m \u001b[0mnp\u001b[0m\u001b[1;33m.\u001b[0m\u001b[0mwhere\u001b[0m\u001b[1;33m(\u001b[0m\u001b[0mY_train\u001b[0m \u001b[1;33m==\u001b[0m \u001b[1;36m1.0\u001b[0m\u001b[1;33m,\u001b[0m \u001b[1;36m1.0\u001b[0m\u001b[1;33m,\u001b[0m \u001b[1;33m-\u001b[0m\u001b[1;36m1.0\u001b[0m\u001b[1;33m)\u001b[0m\u001b[1;33m\u001b[0m\u001b[1;33m\u001b[0m\u001b[0m\n\u001b[0m\u001b[0;32m      2\u001b[0m \u001b[1;33m\u001b[0m\u001b[0m\n\u001b[0;32m      3\u001b[0m \u001b[0mn_samples\u001b[0m \u001b[1;33m=\u001b[0m \u001b[0mlen\u001b[0m\u001b[1;33m(\u001b[0m\u001b[0mX_train\u001b[0m\u001b[1;33m)\u001b[0m\u001b[1;33m\u001b[0m\u001b[1;33m\u001b[0m\u001b[0m\n\u001b[0;32m      4\u001b[0m \u001b[1;31m# 線形カーネル\u001b[0m\u001b[1;33m\u001b[0m\u001b[1;33m\u001b[0m\u001b[1;33m\u001b[0m\u001b[0m\n\u001b[0;32m      5\u001b[0m \u001b[0mK\u001b[0m \u001b[1;33m=\u001b[0m \u001b[0mX_train\u001b[0m\u001b[1;33m.\u001b[0m\u001b[0mdot\u001b[0m\u001b[1;33m(\u001b[0m\u001b[0mX_train\u001b[0m\u001b[1;33m.\u001b[0m\u001b[0mT\u001b[0m\u001b[1;33m)\u001b[0m\u001b[1;33m\u001b[0m\u001b[1;33m\u001b[0m\u001b[0m\n",
      "\u001b[1;31mNameError\u001b[0m: name 'Y_train' is not defined"
     ]
    }
   ],
   "source": [
    "t = np.where(Y_train == 1.0, 1.0, -1.0)\n",
    "\n",
    "n_samples = len(X_train)\n",
    "# 線形カーネル\n",
    "K = X_train.dot(X_train.T)\n",
    "\n",
    "C = 1\n",
    "eta1 = 0.01\n",
    "eta2 = 0.001\n",
    "n_iter = 1000\n",
    "\n",
    "H = np.outer(t, t) * K\n",
    "\n",
    "a = np.ones(n_samples)\n",
    "for _ in range(n_iter):\n",
    "    grad = 1 - H.dot(a)\n",
    "    a += eta1 * grad\n",
    "    a -= eta2 * a.dot(t) * t\n",
    "    a = np.clip(a, 0, C)"
   ]
  },
  {
   "cell_type": "code",
   "execution_count": 51,
   "metadata": {},
   "outputs": [
    {
     "ename": "NameError",
     "evalue": "name 'Y_train' is not defined",
     "output_type": "error",
     "traceback": [
      "\u001b[1;31m---------------------------------------------------------------------------\u001b[0m",
      "\u001b[1;31mNameError\u001b[0m                                 Traceback (most recent call last)",
      "\u001b[1;32m<ipython-input-51-a6bfa77539ce>\u001b[0m in \u001b[0;36m<module>\u001b[1;34m\u001b[0m\n\u001b[1;32m----> 1\u001b[1;33m \u001b[0mt\u001b[0m \u001b[1;33m=\u001b[0m \u001b[0mnp\u001b[0m\u001b[1;33m.\u001b[0m\u001b[0mwhere\u001b[0m\u001b[1;33m(\u001b[0m\u001b[0mY_train\u001b[0m \u001b[1;33m==\u001b[0m \u001b[1;36m1.0\u001b[0m\u001b[1;33m,\u001b[0m \u001b[1;36m1.0\u001b[0m\u001b[1;33m,\u001b[0m \u001b[1;33m-\u001b[0m\u001b[1;36m1.0\u001b[0m\u001b[1;33m)\u001b[0m\u001b[1;33m\u001b[0m\u001b[1;33m\u001b[0m\u001b[0m\n\u001b[0m\u001b[0;32m      2\u001b[0m \u001b[1;33m\u001b[0m\u001b[0m\n\u001b[0;32m      3\u001b[0m \u001b[0mn_samples\u001b[0m \u001b[1;33m=\u001b[0m \u001b[0mlen\u001b[0m\u001b[1;33m(\u001b[0m\u001b[0mX_train\u001b[0m\u001b[1;33m)\u001b[0m\u001b[1;33m\u001b[0m\u001b[1;33m\u001b[0m\u001b[0m\n\u001b[0;32m      4\u001b[0m \u001b[1;31m# 線形カーネル\u001b[0m\u001b[1;33m\u001b[0m\u001b[1;33m\u001b[0m\u001b[1;33m\u001b[0m\u001b[0m\n\u001b[0;32m      5\u001b[0m \u001b[0mK\u001b[0m \u001b[1;33m=\u001b[0m \u001b[0mX_train\u001b[0m\u001b[1;33m.\u001b[0m\u001b[0mdot\u001b[0m\u001b[1;33m(\u001b[0m\u001b[0mX_train\u001b[0m\u001b[1;33m.\u001b[0m\u001b[0mT\u001b[0m\u001b[1;33m)\u001b[0m\u001b[1;33m\u001b[0m\u001b[1;33m\u001b[0m\u001b[0m\n",
      "\u001b[1;31mNameError\u001b[0m: name 'Y_train' is not defined"
     ]
    }
   ],
   "source": [
    "t = np.where(Y_train == 1.0, 1.0, -1.0)\n",
    "\n",
    "n_samples = len(X_train)\n",
    "# 線形カーネル\n",
    "K = X_train.dot(X_train.T)\n",
    "\n",
    "C = 1\n",
    "eta1 = 0.01\n",
    "eta2 = 0.001\n",
    "n_iter = 1000\n",
    "\n",
    "H = np.outer(t, t) * K\n",
    "\n",
    "a = np.ones(n_samples)\n",
    "for _ in range(n_iter):\n",
    "    grad = 1 - H.dot(a)\n",
    "    a += eta1 * grad\n",
    "    a -= eta2 * a.dot(t) * t\n",
    "    a = np.clip(a, 0, C)"
   ]
  },
  {
   "cell_type": "code",
   "execution_count": 52,
   "metadata": {},
   "outputs": [
    {
     "data": {
      "text/plain": [
       "<matplotlib.collections.PathCollection at 0x12dd790f668>"
      ]
     },
     "execution_count": 52,
     "metadata": {},
     "output_type": "execute_result"
    },
    {
     "data": {
      "image/png": "[encoded data removed]",
      "text/plain": [
       "<Figure size 432x288 with 1 Axes>"
      ]
     },
     "metadata": {
      "needs_background": "light"
     },
     "output_type": "display_data"
    }
   ],
   "source": [
    "X_train, ys_train = gen_data()\n",
    "plt.scatter(X_train[:, 0], X_train[:, 1], c=ys_train)"
   ]
  },
  {
   "cell_type": "code",
   "execution_count": 53,
   "metadata": {},
   "outputs": [],
   "source": [
    "t = np.where(ys_train == 1.0, 1.0, -1.0)\n",
    "\n",
    "n_samples = len(X_train)\n",
    "# 線形カーネル\n",
    "K = X_train.dot(X_train.T)\n",
    "\n",
    "eta1 = 0.01\n",
    "eta2 = 0.001\n",
    "n_iter = 500\n",
    "\n",
    "H = np.outer(t, t) * K\n",
    "\n",
    "a = np.ones(n_samples)\n",
    "for _ in range(n_iter):\n",
    "    grad = 1 - H.dot(a)\n",
    "    a += eta1 * grad\n",
    "    a -= eta2 * a.dot(t) * t\n",
    "    a = np.where(a > 0, a, 0)"
   ]
  },
  {
   "cell_type": "code",
   "execution_count": 54,
   "metadata": {},
   "outputs": [],
   "source": [
    "index = a > 1e-6\n",
    "support_vectors = X_train[index]\n",
    "support_vector_t = t[index]\n",
    "support_vector_a = a[index]\n",
    "\n",
    "term2 = K[index][:, index].dot(support_vector_a * support_vector_t)\n",
    "b = (support_vector_t - term2).mean()"
   ]
  },
  {
   "cell_type": "code",
   "execution_count": 55,
   "metadata": {},
   "outputs": [],
   "source": [
    "xx0, xx1 = np.meshgrid(np.linspace(-5, 5, 100), np.linspace(-5, 5, 100))\n",
    "xx = np.array([xx0, xx1]).reshape(2, -1).T\n",
    "\n",
    "X_test = xx\n",
    "y_project = np.ones(len(X_test)) * b\n",
    "for i in range(len(X_test)):\n",
    "    for a, sv_t, sv in zip(support_vector_a, support_vector_t, support_vectors):\n",
    "        y_project[i] += a * sv_t * sv.dot(X_test[i])\n",
    "y_pred = np.sign(y_project)"
   ]
  },
  {
   "cell_type": "code",
   "execution_count": 56,
   "metadata": {},
   "outputs": [
    {
     "data": {
      "text/plain": [
       "<matplotlib.quiver.Quiver at 0x12dd7975908>"
      ]
     },
     "execution_count": 56,
     "metadata": {},
     "output_type": "execute_result"
    },
    {
     "data": {
      "image/png": "[encoded data removed]",
      "text/plain": [
       "<Figure size 432x288 with 1 Axes>"
      ]
     },
     "metadata": {
      "needs_background": "light"
     },
     "output_type": "display_data"
    }
   ],
   "source": [
    "# 訓練データを可視化\n",
    "plt.scatter(X_train[:, 0], X_train[:, 1], c=ys_train)\n",
    "# サポートベクトルを可視化\n",
    "plt.scatter(support_vectors[:, 0], support_vectors[:, 1],\n",
    "                    s=100, facecolors='none', edgecolors='k')\n",
    "# 領域を可視化\n",
    "#plt.contourf(xx0, xx1, y_pred.reshape(100, 100), alpha=0.2, levels=np.linspace(0, 1, 3))\n",
    "# マージンと決定境界を可視化\n",
    "plt.contour(xx0, xx1, y_project.reshape(100, 100), colors='k',\n",
    "                     levels=[-1, 0, 1], alpha=0.5, linestyles=['--', '-', '--'])\n",
    "\n",
    "\n",
    "# マージンと決定境界を可視化\n",
    "plt.quiver(0, 0, 0.1, 0.35, width=0.01, scale=1, color='pink')"
   ]
  },
  {
   "cell_type": "markdown",
   "metadata": {},
   "source": [
    "#### 線形分離不可能"
   ]
  },
  {
   "cell_type": "markdown",
   "metadata": {},
   "source": [
    "データの生成"
   ]
  },
  {
   "cell_type": "code",
   "execution_count": 57,
   "metadata": {},
   "outputs": [],
   "source": [
    "factor = .2\n",
    "n_samples = 50\n",
    "linspace = np.linspace(0, 2 * np.pi, n_samples // 2 + 1)[:-1]\n",
    "outer_circ_x = np.cos(linspace)\n",
    "outer_circ_y = np.sin(linspace)\n",
    "inner_circ_x = outer_circ_x * factor\n",
    "inner_circ_y = outer_circ_y * factor\n",
    "\n",
    "X = np.vstack((np.append(outer_circ_x, inner_circ_x),\n",
    "               np.append(outer_circ_y, inner_circ_y))).T\n",
    "y = np.hstack([np.zeros(n_samples // 2, dtype=np.intp),\n",
    "               np.ones(n_samples // 2, dtype=np.intp)])\n",
    "X += np.random.normal(scale=0.15, size=X.shape)\n",
    "x_train = X\n",
    "y_train = y\n"
   ]
  },
  {
   "cell_type": "code",
   "execution_count": 58,
   "metadata": {},
   "outputs": [
    {
     "data": {
      "text/plain": [
       "<matplotlib.collections.PathCollection at 0x12dd79d5358>"
      ]
     },
     "execution_count": 58,
     "metadata": {},
     "output_type": "execute_result"
    },
    {
     "data": {
      "image/png": "[encoded data removed]",
      "text/plain": [
       "<Figure size 432x288 with 1 Axes>"
      ]
     },
     "metadata": {
      "needs_background": "light"
     },
     "output_type": "display_data"
    }
   ],
   "source": [
    "plt.scatter(x_train[:,0], x_train[:,1], c=y_train)"
   ]
  },
  {
   "cell_type": "markdown",
   "metadata": {},
   "source": [
    "RBFカーネルの利用"
   ]
  },
  {
   "cell_type": "code",
   "execution_count": 59,
   "metadata": {},
   "outputs": [],
   "source": [
    "def rbf(u, v):\n",
    "        sigma = 0.8\n",
    "        return np.exp(-0.5 * ((u - v)**2).sum() / sigma**2)\n",
    "    \n",
    "X_train = x_train\n",
    "t = np.where(y_train == 1.0, 1.0, -1.0)\n",
    "\n",
    "n_samples = len(X_train)\n",
    "# RBFカーネル\n",
    "K = np.zeros((n_samples, n_samples))\n",
    "for i in range(n_samples):\n",
    "    for j in range(n_samples):\n",
    "        K[i, j] = rbf(X_train[i], X_train[j])\n",
    "\n",
    "eta1 = 0.01\n",
    "eta2 = 0.001\n",
    "n_iter = 5000\n",
    "\n",
    "H = np.outer(t, t) * K\n",
    "\n",
    "a = np.ones(n_samples)\n",
    "for _ in range(n_iter):\n",
    "    grad = 1 - H.dot(a)\n",
    "    a += eta1 * grad\n",
    "    a -= eta2 * a.dot(t) * t\n",
    "    a = np.where(a > 0, a, 0)"
   ]
  },
  {
   "cell_type": "markdown",
   "metadata": {},
   "source": [
    "予測"
   ]
  },
  {
   "cell_type": "code",
   "execution_count": 60,
   "metadata": {},
   "outputs": [],
   "source": [
    "index = a > 1e-6\n",
    "support_vectors = X_train[index]\n",
    "support_vector_t = t[index]\n",
    "support_vector_a = a[index]\n",
    "\n",
    "term2 = K[index][:, index].dot(support_vector_a * support_vector_t)\n",
    "b = (support_vector_t - term2).mean()\n"
   ]
  },
  {
   "cell_type": "code",
   "execution_count": 61,
   "metadata": {},
   "outputs": [],
   "source": [
    "xx0, xx1 = np.meshgrid(np.linspace(-1.5, 1.5, 100), np.linspace(-1.5, 1.5, 100))\n",
    "xx = np.array([xx0, xx1]).reshape(2, -1).T\n",
    "\n",
    "X_test = xx\n",
    "y_project = np.ones(len(X_test)) * b\n",
    "for i in range(len(X_test)):\n",
    "    for a, sv_t, sv in zip(support_vector_a, support_vector_t, support_vectors):\n",
    "        y_project[i] += a * sv_t * rbf(X_test[i], sv)\n",
    "y_pred = np.sign(y_project)"
   ]
  },
  {
   "cell_type": "code",
   "execution_count": 62,
   "metadata": {
    "scrolled": true
   },
   "outputs": [
    {
     "data": {
      "text/plain": [
       "<matplotlib.contour.QuadContourSet at 0x12dd7a2be10>"
      ]
     },
     "execution_count": 62,
     "metadata": {},
     "output_type": "execute_result"
    },
    {
     "data": {
      "image/png": "[encoded data removed]",
      "text/plain": [
       "<Figure size 432x288 with 1 Axes>"
      ]
     },
     "metadata": {
      "needs_background": "light"
     },
     "output_type": "display_data"
    }
   ],
   "source": [
    "# 訓練データを可視化\n",
    "plt.scatter(x_train[:, 0], x_train[:, 1], c=y_train)\n",
    "# サポートベクトルを可視化\n",
    "plt.scatter(support_vectors[:, 0], support_vectors[:, 1],\n",
    "                    s=100, facecolors='none', edgecolors='k')\n",
    "# 領域を可視化\n",
    "plt.contourf(xx0, xx1, y_pred.reshape(100, 100), alpha=0.2, levels=np.linspace(0, 1, 3))\n",
    "# マージンと決定境界を可視化\n",
    "plt.contour(xx0, xx1, y_project.reshape(100, 100), colors='k',\n",
    "                     levels=[-1, 0, 1], alpha=0.5, linestyles=['--', '-', '--'])"
   ]
  },
  {
   "cell_type": "markdown",
   "metadata": {},
   "source": [
    "#### ソフトマージン\n",
    "\n",
    "データがマージンの中に入ることを許容する"
   ]
  },
  {
   "cell_type": "code",
   "execution_count": 63,
   "metadata": {},
   "outputs": [],
   "source": [
    "x0 = np.random.normal(size=50).reshape(-1, 2) - 1.\n",
    "x1 = np.random.normal(size=50).reshape(-1, 2) + 1.\n",
    "x_train = np.concatenate([x0, x1])\n",
    "y_train = np.concatenate([np.zeros(25), np.ones(25)]).astype(np.int)"
   ]
  },
  {
   "cell_type": "code",
   "execution_count": 64,
   "metadata": {},
   "outputs": [
    {
     "data": {
      "text/plain": [
       "<matplotlib.collections.PathCollection at 0x12dd7a8ae48>"
      ]
     },
     "execution_count": 64,
     "metadata": {},
     "output_type": "execute_result"
    },
    {
     "data": {
      "image/png": "[encoded data removed]",
      "text/plain": [
       "<Figure size 432x288 with 1 Axes>"
      ]
     },
     "metadata": {
      "needs_background": "light"
     },
     "output_type": "display_data"
    }
   ],
   "source": [
    "plt.scatter(x_train[:, 0], x_train[:, 1], c=y_train)"
   ]
  },
  {
   "cell_type": "markdown",
   "metadata": {},
   "source": [
    "学習"
   ]
  },
  {
   "cell_type": "code",
   "execution_count": 65,
   "metadata": {},
   "outputs": [],
   "source": [
    "X_train = x_train\n",
    "t = np.where(y_train == 1.0, 1.0, -1.0)\n",
    "\n",
    "n_samples = len(X_train)\n",
    "# 線形カーネル\n",
    "K = X_train.dot(X_train.T)\n",
    "\n",
    "C = 1\n",
    "eta1 = 0.01\n",
    "eta2 = 0.001\n",
    "n_iter = 1000\n",
    "\n",
    "H = np.outer(t, t) * K\n",
    "\n",
    "a = np.ones(n_samples)\n",
    "for _ in range(n_iter):\n",
    "    grad = 1 - H.dot(a)\n",
    "    a += eta1 * grad\n",
    "    a -= eta2 * a.dot(t) * t\n",
    "    a = np.clip(a, 0, C)"
   ]
  },
  {
   "cell_type": "markdown",
   "metadata": {},
   "source": [
    "予測"
   ]
  },
  {
   "cell_type": "code",
   "execution_count": 66,
   "metadata": {},
   "outputs": [],
   "source": [
    "index = a > 1e-8\n",
    "support_vectors = X_train[index]\n",
    "support_vector_t = t[index]\n",
    "support_vector_a = a[index]\n",
    "\n",
    "term2 = K[index][:, index].dot(support_vector_a * support_vector_t)\n",
    "b = (support_vector_t - term2).mean()"
   ]
  },
  {
   "cell_type": "code",
   "execution_count": 67,
   "metadata": {},
   "outputs": [],
   "source": [
    "X_train = x_train\n",
    "t = np.where(y_train == 1.0, 1.0, -1.0)\n",
    "\n",
    "n_samples = len(X_train)\n",
    "# 線形カーネル\n",
    "K = X_train.dot(X_train.T)\n",
    "\n",
    "C = 1\n",
    "eta1 = 0.01\n",
    "eta2 = 0.001\n",
    "n_iter = 1000\n",
    "\n",
    "H = np.outer(t, t) * K\n",
    "\n",
    "a = np.ones(n_samples)\n",
    "for _ in range(n_iter):\n",
    "    grad = 1 - H.dot(a)\n",
    "    a += eta1 * grad\n",
    "    a -= eta2 * a.dot(t) * t\n",
    "    a = np.clip(a, 0, C)"
   ]
  },
  {
   "cell_type": "code",
   "execution_count": 68,
   "metadata": {},
   "outputs": [],
   "source": [
    "xx0, xx1 = np.meshgrid(np.linspace(-4, 4, 100), np.linspace(-4, 4, 100))\n",
    "xx = np.array([xx0, xx1]).reshape(2, -1).T\n",
    "\n",
    "X_test = xx\n",
    "y_project = np.ones(len(X_test)) * b\n",
    "for i in range(len(X_test)):\n",
    "    for a, sv_t, sv in zip(support_vector_a, support_vector_t, support_vectors):\n",
    "        y_project[i] += a * sv_t * sv.dot(X_test[i])\n",
    "y_pred = np.sign(y_project)"
   ]
  },
  {
   "cell_type": "code",
   "execution_count": 69,
   "metadata": {
    "scrolled": true
   },
   "outputs": [
    {
     "data": {
      "text/plain": [
       "<matplotlib.contour.QuadContourSet at 0x12dd7aed6a0>"
      ]
     },
     "execution_count": 69,
     "metadata": {},
     "output_type": "execute_result"
    },
    {
     "data": {
      "image/png": "[encoded data removed]",
      "text/plain": [
       "<Figure size 432x288 with 1 Axes>"
      ]
     },
     "metadata": {
      "needs_background": "light"
     },
     "output_type": "display_data"
    }
   ],
   "source": [
    "# 訓練データを可視化\n",
    "plt.scatter(x_train[:, 0], x_train[:, 1], c=y_train)\n",
    "# サポートベクトルを可視化\n",
    "plt.scatter(support_vectors[:, 0], support_vectors[:, 1],\n",
    "                    s=100, facecolors='none', edgecolors='k')\n",
    "# 領域を可視化\n",
    "plt.contourf(xx0, xx1, y_pred.reshape(100, 100), alpha=0.2, levels=np.linspace(0, 1, 3))\n",
    "# マージンと決定境界を可視化\n",
    "plt.contour(xx0, xx1, y_project.reshape(100, 100), colors='k',\n",
    "                     levels=[-1, 0, 1], alpha=0.5, linestyles=['--', '-', '--'])"
   ]
  },
  {
   "cell_type": "code",
   "execution_count": null,
   "metadata": {},
   "outputs": [],
   "source": []
  }
 ],
 "metadata": {
  "kernelspec": {
   "display_name": "Python 3",
   "language": "python",
   "name": "python3"
  },
  "language_info": {
   "codemirror_mode": {
    "name": "ipython",
    "version": 3
   },
   "file_extension": ".py",
   "mimetype": "text/x-python",
   "name": "python",
   "nbconvert_exporter": "python",
   "pygments_lexer": "ipython3",
   "version": "3.7.1"
  }
 },
 "nbformat": 4,
 "nbformat_minor": 4
}
